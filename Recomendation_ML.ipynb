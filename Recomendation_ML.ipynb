{
 "cells": [
  {
   "cell_type": "code",
   "execution_count": 1,
   "metadata": {},
   "outputs": [],
   "source": [
    "import pandas as pd\n",
    "import numpy as np\n",
    "from sklearn.feature_extraction.text import TfidfVectorizer\n",
    "from sklearn.neighbors import NearestNeighbors\n",
    "from sklearn.model_selection import train_test_split\n",
    "from sklearn.preprocessing import MinMaxScaler"
   ]
  },
  {
   "cell_type": "code",
   "execution_count": 2,
   "metadata": {},
   "outputs": [],
   "source": [
    "df_movies=pd.read_csv('Movies.csv')"
   ]
  },
  {
   "cell_type": "code",
   "execution_count": 3,
   "metadata": {},
   "outputs": [],
   "source": [
    "df_movies['genre_name']=df_movies['genre_name'].astype(str)"
   ]
  },
  {
   "cell_type": "code",
   "execution_count": 17,
   "metadata": {},
   "outputs": [
    {
     "data": {
      "text/html": [
       "<div>\n",
       "<style scoped>\n",
       "    .dataframe tbody tr th:only-of-type {\n",
       "        vertical-align: middle;\n",
       "    }\n",
       "\n",
       "    .dataframe tbody tr th {\n",
       "        vertical-align: top;\n",
       "    }\n",
       "\n",
       "    .dataframe thead th {\n",
       "        text-align: right;\n",
       "    }\n",
       "</style>\n",
       "<table border=\"1\" class=\"dataframe\">\n",
       "  <thead>\n",
       "    <tr style=\"text-align: right;\">\n",
       "      <th></th>\n",
       "      <th>title</th>\n",
       "      <th>vote_average</th>\n",
       "      <th>vote_average_normalized</th>\n",
       "    </tr>\n",
       "  </thead>\n",
       "  <tbody>\n",
       "    <tr>\n",
       "      <th>2718</th>\n",
       "      <td>The Story of G.I. Joe</td>\n",
       "      <td>4.8</td>\n",
       "      <td>0.452632</td>\n",
       "    </tr>\n",
       "    <tr>\n",
       "      <th>12117</th>\n",
       "      <td>The Tillman Story</td>\n",
       "      <td>7.7</td>\n",
       "      <td>0.757895</td>\n",
       "    </tr>\n",
       "    <tr>\n",
       "      <th>2842</th>\n",
       "      <td>The Official Story</td>\n",
       "      <td>7.3</td>\n",
       "      <td>0.715789</td>\n",
       "    </tr>\n",
       "    <tr>\n",
       "      <th>499</th>\n",
       "      <td>Two Much</td>\n",
       "      <td>5.1</td>\n",
       "      <td>0.484211</td>\n",
       "    </tr>\n",
       "    <tr>\n",
       "      <th>16894</th>\n",
       "      <td>C.O.G.</td>\n",
       "      <td>5.4</td>\n",
       "      <td>0.515789</td>\n",
       "    </tr>\n",
       "  </tbody>\n",
       "</table>\n",
       "</div>"
      ],
      "text/plain": [
       "                       title  vote_average  vote_average_normalized\n",
       "2718   The Story of G.I. Joe           4.8                 0.452632\n",
       "12117      The Tillman Story           7.7                 0.757895\n",
       "2842      The Official Story           7.3                 0.715789\n",
       "499                 Two Much           5.1                 0.484211\n",
       "16894                 C.O.G.           5.4                 0.515789"
      ]
     },
     "execution_count": 17,
     "metadata": {},
     "output_type": "execute_result"
    }
   ],
   "source": [
    "#El modelo utilizado para el sistema de recomendación es K-Nearest Neighbors-KNN.\n",
    "#La principal razón por la que se utilizó este modelo, es que el Dataframe a utilizar\n",
    "#presenta las columna (usadas) 'title' y 'vote_average' y cumplieron la característica de que\n",
    "#se pueden comparar directamente utilizando medidas de similitud.\n",
    "#También el modelo presenta una sencillez para su implementación y encaja con el sistema\n",
    "#Por útlimo, el modelo KNN es factible para manejar texto, este caso la columna 'title' y \n",
    "#es capaz de hacer recomendaciones, que al final es la esencia de lo que se quiere lograr\n",
    "#Cabe mencionar que se uso una normalización en la columna 'vote_average' para reducir la influencia\n",
    "#de valores extremos y con ello mejorar la precisión del modelo, en este ejercicio, se uso 0-1\n",
    "\n",
    "\n",
    "#Filtramos las columnas a utilizar\n",
    "\n",
    "df_to_use=df_movies[['title', 'vote_average']]\n",
    "\n",
    "#Se limitaa 1500 filas esto debido a recursos de la máquina usada para crear el modelo\n",
    "#Si se tienen más recursos se puede aumentar\n",
    "df_used=df_to_use.sample(n=1500, random_state=42)\n",
    "\n",
    "\n",
    "#Aquí se usa la normalización ya mencionada de la columna 'vote_average' en una escala de 0-1\n",
    "scaler=MinMaxScaler()\n",
    "df_used['vote_average_normalized'] = scaler.fit_transform(df_used[['vote_average']])\n",
    "\n",
    "#Preprocesamos los títulos de las películas utilizando TF-IDF, con el fin de convertir texto\n",
    "#en una representación numerica y asi encontrar peliculas similares\n",
    "tfidf_vectorizer=TfidfVectorizer(stop_words='english')\n",
    "tfidf_matrix=tfidf_vectorizer.fit_transform(df_used['title'])\n",
    "\n",
    "#Se define el modelo K-Nearest Neighbors\n",
    "knn_model=NearestNeighbors(n_neighbors=6, algorithm='auto').fit(tfidf_matrix)\n",
    "\n",
    "\n",
    "def recomendacion(movie, model, tfidf_matrix, df_sample, num=5):\n",
    "    \n",
    "    #Se transorma el titulo ingresado en vector TF-IDF\n",
    "    vectorized_movie= tfidf_vectorizer.transform([movie])\n",
    "    \n",
    "    #Se buscan las peliculas cercanas que cumplen con las características propuestas\n",
    "    d, i=model.kneighbors(vectorized_movie, n_neighbors=num+1)\n",
    "    \n",
    "    #Se obtienen las peliculas con sus titulos y vote_average similares al titulo de entrada, excluyendo al mismo\n",
    "    recom=df_used.iloc[i[0][1:num+1]].copy()\n",
    "    return recom[['title', 'vote_average', 'vote_average_normalized']]\n",
    "\n",
    "\n",
    "movie=\"Toy Story\"\n",
    "recomendacion(movie, knn_model, tfidf_matrix, df_used, num=5)"
   ]
  }
 ],
 "metadata": {
  "kernelspec": {
   "display_name": "Python 3",
   "language": "python",
   "name": "python3"
  },
  "language_info": {
   "codemirror_mode": {
    "name": "ipython",
    "version": 3
   },
   "file_extension": ".py",
   "mimetype": "text/x-python",
   "name": "python",
   "nbconvert_exporter": "python",
   "pygments_lexer": "ipython3",
   "version": "3.12.4"
  }
 },
 "nbformat": 4,
 "nbformat_minor": 2
}
