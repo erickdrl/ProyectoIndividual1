{
 "cells": [
  {
   "cell_type": "code",
   "execution_count": 1,
   "metadata": {},
   "outputs": [],
   "source": [
    "import pandas as pd\n",
    "import ast\n",
    "from pandas import json_normalize"
   ]
  },
  {
   "cell_type": "code",
   "execution_count": 2,
   "metadata": {},
   "outputs": [
    {
     "name": "stderr",
     "output_type": "stream",
     "text": [
      "C:\\Users\\NOVATEC\\AppData\\Local\\Temp\\ipykernel_10864\\3009879209.py:1: DtypeWarning: Columns (10) have mixed types. Specify dtype option on import or set low_memory=False.\n",
      "  df_movies=pd.read_csv('C:/Users/NOVATEC/Desktop/movies_dataset.csv', sep=',', encoding='utf_8')\n"
     ]
    }
   ],
   "source": [
    "df_movies=pd.read_csv('C:/Users/NOVATEC/Desktop/movies_dataset.csv', sep=',', encoding='utf_8')"
   ]
  },
  {
   "cell_type": "code",
   "execution_count": 3,
   "metadata": {},
   "outputs": [],
   "source": [
    "#Vamos a guardar toda la información en un DataFrame para poder aceder a él una vez\n",
    "#que esté desanidado\n",
    "\n",
    "df_belongs_to_colection_copy=df_movies['belongs_to_collection']\n",
    "df_belongs_to_colection=pd.DataFrame(df_belongs_to_colection_copy)"
   ]
  },
  {
   "cell_type": "code",
   "execution_count": 4,
   "metadata": {},
   "outputs": [],
   "source": [
    "#Convertimos todos los valores a listas de diccionarios para mejor manejo y poder tratar valores nulos\n",
    "\n",
    "def evaluation(v):\n",
    "    try:\n",
    "        return ast.literal_eval(v)\n",
    "    except (ValueError, SyntaxError):\n",
    "        return None\n",
    "\n",
    "df_belongs_to_colection['belongs_to_collection']= df_belongs_to_colection['belongs_to_collection'].apply(lambda x: evaluation(x) if pd.notnull(x) else None)\n"
   ]
  },
  {
   "cell_type": "code",
   "execution_count": 5,
   "metadata": {},
   "outputs": [
    {
     "name": "stderr",
     "output_type": "stream",
     "text": [
      "C:\\Users\\NOVATEC\\AppData\\Local\\Temp\\ipykernel_10864\\4121816260.py:5: FutureWarning: A value is trying to be set on a copy of a DataFrame or Series through chained assignment using an inplace method.\n",
      "The behavior will change in pandas 3.0. This inplace method will never work because the intermediate object on which we are setting values always behaves as a copy.\n",
      "\n",
      "For example, when doing 'df[col].method(value, inplace=True)', try using 'df.method({col: value}, inplace=True)' or df[col] = df[col].method(value) instead, to perform the operation inplace on the original object.\n",
      "\n",
      "\n",
      "  df_belongs['id'].fillna(0, inplace=True)\n"
     ]
    }
   ],
   "source": [
    "#Normalizamos el DataFrame \n",
    "\n",
    "df_belongs= json_normalize(df_belongs_to_colection['belongs_to_collection'])\n",
    "\n",
    "df_belongs['id'].fillna(0, inplace=True)\n",
    "df_belongs['id']=df_belongs['id'].astype(int)\n",
    "\n",
    "df_belongs=df_belongs.rename(columns={'id':'id_belongs', 'name':'collection_name', 'poster_path':'collection_poster_path', 'backdrop_path':'collection_backdrop_path'})"
   ]
  },
  {
   "cell_type": "code",
   "execution_count": 6,
   "metadata": {},
   "outputs": [
    {
     "name": "stderr",
     "output_type": "stream",
     "text": [
      "C:\\Users\\NOVATEC\\AppData\\Local\\Temp\\ipykernel_10864\\1211960478.py:20: FutureWarning: A value is trying to be set on a copy of a DataFrame or Series through chained assignment using an inplace method.\n",
      "The behavior will change in pandas 3.0. This inplace method will never work because the intermediate object on which we are setting values always behaves as a copy.\n",
      "\n",
      "For example, when doing 'df[col].method(value, inplace=True)', try using 'df.method({col: value}, inplace=True)' or df[col] = df[col].method(value) instead, to perform the operation inplace on the original object.\n",
      "\n",
      "\n",
      "  df_production_companies['id'].fillna(0, inplace=True)\n"
     ]
    }
   ],
   "source": [
    "#Guardamos la columna \"production_companies\" y lo convertimos a DataFrame\n",
    "\n",
    "\n",
    "df_pc=df_movies['production_companies']\n",
    "df_pc2=pd.DataFrame(df_pc)\n",
    "\n",
    "#Después, aplicamos la misma función para manejar listas de diccionarios y valores nulos\n",
    "\n",
    "df_pc2['production_companies']=df_pc2['production_companies'].apply(lambda x: evaluation(x) if pd.notnull(x) else None)\n",
    "\n",
    "#Expandimos las listas \n",
    "\n",
    "df_pc3=df_pc2.explode('production_companies')\n",
    "\n",
    "#Normalizamos los datos\n",
    "df_production_companies=json_normalize(df_pc3['production_companies'])\n",
    "\n",
    "#Convertimos a int los id\n",
    "\n",
    "df_production_companies['id'].fillna(0, inplace=True)\n",
    "df_production_companies['id']=df_production_companies['id'].astype(int)\n",
    "df_production_companies=df_production_companies.rename(columns={'name':'company_name','id':'company_id'})"
   ]
  },
  {
   "cell_type": "code",
   "execution_count": 7,
   "metadata": {},
   "outputs": [],
   "source": [
    "#Aplicamos el mismo proceso para la columna \"production_countries\"\n",
    "\n",
    "df_c=df_movies['production_countries']\n",
    "df_c1=pd.DataFrame(df_c)\n",
    "df_c1['production_countries']=df_c1['production_countries'].apply(lambda x: evaluation(x) if pd.notnull(x) else None)\n",
    "df_c2=df_c1.explode('production_countries')\n",
    "df_production_countries=json_normalize(df_c2['production_countries'])\n",
    "df_production_countries=df_production_countries.rename(columns={'iso_3166_1':'country_id','name':'country'})"
   ]
  },
  {
   "cell_type": "code",
   "execution_count": 8,
   "metadata": {},
   "outputs": [],
   "source": [
    "#Aplicamos el mismo proceso para la columna \"spoken_languages\"\n",
    "\n",
    "df_m=df_movies['spoken_languages']\n",
    "df_m1=pd.DataFrame(df_m)\n",
    "df_m1['spoken_languages']=df_m1['spoken_languages'].apply(lambda x: evaluation(x) if pd.notnull(x) else None)\n",
    "df_m2=df_m1.explode('spoken_languages')\n",
    "df_spoken_languages=json_normalize(df_m2['spoken_languages'])\n",
    "df_spoken_languages=df_spoken_languages.rename(columns={'iso_639_1':'language_id','name':'language'})"
   ]
  },
  {
   "cell_type": "code",
   "execution_count": 9,
   "metadata": {},
   "outputs": [
    {
     "name": "stderr",
     "output_type": "stream",
     "text": [
      "C:\\Users\\NOVATEC\\AppData\\Local\\Temp\\ipykernel_10864\\3682250500.py:3: FutureWarning: A value is trying to be set on a copy of a DataFrame or Series through chained assignment using an inplace method.\n",
      "The behavior will change in pandas 3.0. This inplace method will never work because the intermediate object on which we are setting values always behaves as a copy.\n",
      "\n",
      "For example, when doing 'df[col].method(value, inplace=True)', try using 'df.method({col: value}, inplace=True)' or df[col] = df[col].method(value) instead, to perform the operation inplace on the original object.\n",
      "\n",
      "\n",
      "  df_movies['revenue'].fillna(0, inplace=True)\n",
      "C:\\Users\\NOVATEC\\AppData\\Local\\Temp\\ipykernel_10864\\3682250500.py:4: FutureWarning: A value is trying to be set on a copy of a DataFrame or Series through chained assignment using an inplace method.\n",
      "The behavior will change in pandas 3.0. This inplace method will never work because the intermediate object on which we are setting values always behaves as a copy.\n",
      "\n",
      "For example, when doing 'df[col].method(value, inplace=True)', try using 'df.method({col: value}, inplace=True)' or df[col] = df[col].method(value) instead, to perform the operation inplace on the original object.\n",
      "\n",
      "\n",
      "  df_movies['budget'].fillna(0, inplace=True)\n"
     ]
    }
   ],
   "source": [
    "#Rellenamos con 0 los campos nulos de las columnas \"revenue\" y \"budget\"\n",
    "\n",
    "df_movies['revenue'].fillna(0, inplace=True)\n",
    "df_movies['budget'].fillna(0, inplace=True)"
   ]
  },
  {
   "cell_type": "code",
   "execution_count": 10,
   "metadata": {},
   "outputs": [
    {
     "name": "stderr",
     "output_type": "stream",
     "text": [
      "C:\\Users\\NOVATEC\\AppData\\Local\\Temp\\ipykernel_10864\\4055980669.py:6: FutureWarning: A value is trying to be set on a copy of a DataFrame or Series through chained assignment using an inplace method.\n",
      "The behavior will change in pandas 3.0. This inplace method will never work because the intermediate object on which we are setting values always behaves as a copy.\n",
      "\n",
      "For example, when doing 'df[col].method(value, inplace=True)', try using 'df.method({col: value}, inplace=True)' or df[col] = df[col].method(value) instead, to perform the operation inplace on the original object.\n",
      "\n",
      "\n",
      "  df_genres['id'].fillna(0, inplace=True)\n"
     ]
    }
   ],
   "source": [
    "df_g=df_movies['genres']\n",
    "df_g1=pd.DataFrame(df_g)\n",
    "df_g1['genres']=df_g1['genres'].apply(lambda x: evaluation(x) if pd.notnull(x) else None)\n",
    "df_g2=df_g1.explode('genres')\n",
    "df_genres=json_normalize(df_g2['genres'])\n",
    "df_genres['id'].fillna(0, inplace=True)\n",
    "df_genres['id']=df_genres['id'].astype(int)\n",
    "df_genres=df_genres.rename(columns={'id':'genre_id','name':'genre_name'})"
   ]
  },
  {
   "cell_type": "code",
   "execution_count": 11,
   "metadata": {},
   "outputs": [],
   "source": [
    "#Concatemos los DataFrames creados con el original sin quitar nada de valores nulos para\n",
    "#no causar inconsistencia en las filas\n",
    "\n",
    "df_movies2=pd.concat([df_movies, df_belongs, df_production_companies, df_production_countries, df_spoken_languages, df_genres], axis=1)"
   ]
  },
  {
   "cell_type": "code",
   "execution_count": 12,
   "metadata": {},
   "outputs": [],
   "source": [
    "#Eliminamos las filas con valores nulos de \"release_date\"\n",
    "\n",
    "df_movies2=df_movies2.dropna(subset=['release_date'])"
   ]
  },
  {
   "cell_type": "code",
   "execution_count": 13,
   "metadata": {},
   "outputs": [],
   "source": [
    "#Convertimos los valores de la columns \"release_date\" a formato \"aaaa-mm-dd\"\n",
    "\n",
    "df_movies2['release_date']=pd.to_datetime(df_movies2['release_date'], errors='coerce')"
   ]
  },
  {
   "cell_type": "code",
   "execution_count": 14,
   "metadata": {},
   "outputs": [],
   "source": [
    "#Agregamos una nueva columna \"release_year\" con el año de \"release_date\"\n",
    "#para después darle formato de \"year\"\n",
    "\n",
    "df_movies2['release_year']=df_movies2['release_date'].dt.year.astype('Int64')"
   ]
  },
  {
   "cell_type": "code",
   "execution_count": 15,
   "metadata": {},
   "outputs": [],
   "source": [
    "#La columna \"budget\" tiene strings en ciertas filas, por lo que necesitamos trabajar con ellos\n",
    "#esta función permite trabajar con ellos y asi darle formato float a los números\n",
    "\n",
    "def conversion(v):\n",
    "    try:\n",
    "        return float(v)\n",
    "    except ValueError:\n",
    "        return v\n",
    "\n",
    "df_movies2['budget'] = df_movies2['budget'].apply(conversion)"
   ]
  },
  {
   "cell_type": "code",
   "execution_count": 16,
   "metadata": {},
   "outputs": [],
   "source": [
    "#La siguiente función nos permite cambiar los datos de \"budget\" a float\n",
    "#porque algunas filas dentro de ella contienen palabras\n",
    "\n",
    "import numpy as np\n",
    "def conversion(v):\n",
    "    try:\n",
    "        return float(v)\n",
    "    except ValueError:\n",
    "        return np.nan  # Usar np.nan para valores que no se pueden convertir\n",
    "\n",
    "\n",
    "df_movies2['budget'] = df_movies2['budget'].apply(conversion)"
   ]
  },
  {
   "cell_type": "code",
   "execution_count": 17,
   "metadata": {},
   "outputs": [],
   "source": [
    "#Función que nos permite evitar el error de que el resultado de 0\n",
    "\n",
    "def retn(r, b):\n",
    "    if b == 0:\n",
    "        return 0  \n",
    "    else:\n",
    "        return (r/b)\n",
    "    \n",
    "df_movies2['return'] = df_movies2.apply(lambda row: retn(row['revenue'], row['budget']), axis=1)"
   ]
  },
  {
   "cell_type": "code",
   "execution_count": 18,
   "metadata": {},
   "outputs": [],
   "source": [
    "#Eliminamos las columnas que no vamos a utilizar\n",
    "\n",
    "df_movies2=df_movies2.drop(columns=['belongs_to_collection', 'genres', 'production_companies',\n",
    "                                    'production_countries', 'spoken_languages', 'video',\n",
    "                                    'imdb_id', 'adult', 'original_title', 'poster_path', 'homepage'])"
   ]
  },
  {
   "cell_type": "code",
   "execution_count": 19,
   "metadata": {},
   "outputs": [],
   "source": [
    "#Borramos las filas que tengan \"vote count\" de cero para tener un menor número de datos\n",
    "\n",
    "df_movies2=df_movies2[df_movies2['vote_count']!=0]"
   ]
  },
  {
   "cell_type": "code",
   "execution_count": 20,
   "metadata": {},
   "outputs": [],
   "source": [
    "#Borramos las filas que tengas \"vote_average\" de cero, y con esto logramos tener películas\n",
    "#que a gente haya visto y calificado\n",
    "\n",
    "df_movies2=df_movies2[df_movies2['vote_average']!=0]"
   ]
  },
  {
   "cell_type": "code",
   "execution_count": 21,
   "metadata": {},
   "outputs": [],
   "source": [
    "#Eliminamos las películas que estén en los siguientes idiomas:\n",
    "\n",
    "l=['English', 'Français', 'Español', 'Deutsch']\n",
    "\n",
    "#Esto con el fin de seguir filtrando y tener un DataFrame más limpio\n",
    "\n",
    "df_movies2=df_movies2[df_movies2['language'].isin(l)]"
   ]
  },
  {
   "cell_type": "code",
   "execution_count": 22,
   "metadata": {},
   "outputs": [],
   "source": [
    "#Ahora vamos a trabajar con el csv \"credits\"\n",
    "\n",
    "df_credits=pd.read_csv('C:/Users/NOVATEC/Desktop/credits.csv', sep=',', encoding='utf-8')"
   ]
  },
  {
   "cell_type": "code",
   "execution_count": 23,
   "metadata": {},
   "outputs": [],
   "source": [
    "#Desanidamos los datos de la columna \"cast\"\n",
    "\n",
    "df_ct1=df_credits['cast'].astype(str)\n",
    "df_ct2=df_ct1.apply(ast.literal_eval)\n",
    "df_cast=df_ct2.explode().apply(pd.Series)"
   ]
  },
  {
   "cell_type": "code",
   "execution_count": 24,
   "metadata": {},
   "outputs": [],
   "source": [
    "df_cast=df_cast.rename(columns={'id':'name_id','name':'actor_name'})"
   ]
  },
  {
   "cell_type": "code",
   "execution_count": 25,
   "metadata": {},
   "outputs": [],
   "source": [
    "dlt=df_cast.columns[8]\n",
    "df_cast=df_cast.drop(columns=dlt)"
   ]
  },
  {
   "cell_type": "code",
   "execution_count": 26,
   "metadata": {},
   "outputs": [],
   "source": [
    "#Desanidamos los datos de la columna crew\n",
    "\n",
    "df_cw=df_credits['crew']\n",
    "df_cw2=df_cw.apply(ast.literal_eval)\n",
    "df_crew=df_cw2.explode().apply(pd.Series)"
   ]
  },
  {
   "cell_type": "code",
   "execution_count": 27,
   "metadata": {},
   "outputs": [
    {
     "name": "stderr",
     "output_type": "stream",
     "text": [
      "C:\\Users\\NOVATEC\\AppData\\Local\\Temp\\ipykernel_10864\\196875196.py:1: FutureWarning: A value is trying to be set on a copy of a DataFrame or Series through chained assignment using an inplace method.\n",
      "The behavior will change in pandas 3.0. This inplace method will never work because the intermediate object on which we are setting values always behaves as a copy.\n",
      "\n",
      "For example, when doing 'df[col].method(value, inplace=True)', try using 'df.method({col: value}, inplace=True)' or df[col] = df[col].method(value) instead, to perform the operation inplace on the original object.\n",
      "\n",
      "\n",
      "  df_crew['id'].fillna(0, inplace=True)\n"
     ]
    }
   ],
   "source": [
    "df_crew['id'].fillna(0, inplace=True)\n",
    "df_crew['id']=df_crew['id'].astype(int)"
   ]
  },
  {
   "cell_type": "code",
   "execution_count": 28,
   "metadata": {},
   "outputs": [],
   "source": [
    "df_crew=df_crew.rename(columns={'gender':'creew_gender','id':'crew_id','name':'crew_name'})"
   ]
  },
  {
   "cell_type": "code",
   "execution_count": 29,
   "metadata": {},
   "outputs": [],
   "source": [
    "dlt2=df_crew.columns[7]\n",
    "df_crew=df_crew.drop(columns=dlt2)"
   ]
  },
  {
   "cell_type": "code",
   "execution_count": 30,
   "metadata": {},
   "outputs": [],
   "source": [
    "#Quitamos columnas y filtramos para tener un DataFrame más limpio\n",
    "\n",
    "df_cast=df_cast.drop(columns=['profile_path'])\n",
    "df_cast=df_cast[df_cast['order']!=0]\n",
    "df_cast=df_cast.dropna(subset=['actor_name'])\n"
   ]
  },
  {
   "cell_type": "code",
   "execution_count": 31,
   "metadata": {},
   "outputs": [
    {
     "data": {
      "text/html": [
       "<div>\n",
       "<style scoped>\n",
       "    .dataframe tbody tr th:only-of-type {\n",
       "        vertical-align: middle;\n",
       "    }\n",
       "\n",
       "    .dataframe tbody tr th {\n",
       "        vertical-align: top;\n",
       "    }\n",
       "\n",
       "    .dataframe thead th {\n",
       "        text-align: right;\n",
       "    }\n",
       "</style>\n",
       "<table border=\"1\" class=\"dataframe\">\n",
       "  <thead>\n",
       "    <tr style=\"text-align: right;\">\n",
       "      <th></th>\n",
       "      <th>credit_id</th>\n",
       "      <th>department</th>\n",
       "      <th>creew_gender</th>\n",
       "      <th>crew_id</th>\n",
       "      <th>job</th>\n",
       "      <th>crew_name</th>\n",
       "    </tr>\n",
       "  </thead>\n",
       "  <tbody>\n",
       "    <tr>\n",
       "      <th>0</th>\n",
       "      <td>52fe4284c3a36847f8024f49</td>\n",
       "      <td>Directing</td>\n",
       "      <td>2.0</td>\n",
       "      <td>7879</td>\n",
       "      <td>Director</td>\n",
       "      <td>John Lasseter</td>\n",
       "    </tr>\n",
       "    <tr>\n",
       "      <th>0</th>\n",
       "      <td>52fe4284c3a36847f8024f4f</td>\n",
       "      <td>Writing</td>\n",
       "      <td>2.0</td>\n",
       "      <td>12891</td>\n",
       "      <td>Screenplay</td>\n",
       "      <td>Joss Whedon</td>\n",
       "    </tr>\n",
       "    <tr>\n",
       "      <th>0</th>\n",
       "      <td>52fe4284c3a36847f8024f55</td>\n",
       "      <td>Writing</td>\n",
       "      <td>2.0</td>\n",
       "      <td>7</td>\n",
       "      <td>Screenplay</td>\n",
       "      <td>Andrew Stanton</td>\n",
       "    </tr>\n",
       "    <tr>\n",
       "      <th>0</th>\n",
       "      <td>52fe4284c3a36847f8024f5b</td>\n",
       "      <td>Writing</td>\n",
       "      <td>2.0</td>\n",
       "      <td>12892</td>\n",
       "      <td>Screenplay</td>\n",
       "      <td>Joel Cohen</td>\n",
       "    </tr>\n",
       "    <tr>\n",
       "      <th>0</th>\n",
       "      <td>52fe4284c3a36847f8024f61</td>\n",
       "      <td>Writing</td>\n",
       "      <td>0.0</td>\n",
       "      <td>12893</td>\n",
       "      <td>Screenplay</td>\n",
       "      <td>Alec Sokolow</td>\n",
       "    </tr>\n",
       "    <tr>\n",
       "      <th>...</th>\n",
       "      <td>...</td>\n",
       "      <td>...</td>\n",
       "      <td>...</td>\n",
       "      <td>...</td>\n",
       "      <td>...</td>\n",
       "      <td>...</td>\n",
       "    </tr>\n",
       "    <tr>\n",
       "      <th>45473</th>\n",
       "      <td>52fe4776c3a368484e0c8399</td>\n",
       "      <td>Sound</td>\n",
       "      <td>0.0</td>\n",
       "      <td>549356</td>\n",
       "      <td>Original Music Composer</td>\n",
       "      <td>Richard McHugh</td>\n",
       "    </tr>\n",
       "    <tr>\n",
       "      <th>45473</th>\n",
       "      <td>52fe4776c3a368484e0c839f</td>\n",
       "      <td>Camera</td>\n",
       "      <td>2.0</td>\n",
       "      <td>58818</td>\n",
       "      <td>Director of Photography</td>\n",
       "      <td>João Fernandes</td>\n",
       "    </tr>\n",
       "    <tr>\n",
       "      <th>45474</th>\n",
       "      <td>533bccebc3a36844cf0011a7</td>\n",
       "      <td>Directing</td>\n",
       "      <td>0.0</td>\n",
       "      <td>1085341</td>\n",
       "      <td>Director</td>\n",
       "      <td>Yakov Protazanov</td>\n",
       "    </tr>\n",
       "    <tr>\n",
       "      <th>45474</th>\n",
       "      <td>58ebbc26925141281908aa0a</td>\n",
       "      <td>Production</td>\n",
       "      <td>2.0</td>\n",
       "      <td>1195656</td>\n",
       "      <td>Producer</td>\n",
       "      <td>Joseph N. Ermolieff</td>\n",
       "    </tr>\n",
       "    <tr>\n",
       "      <th>45475</th>\n",
       "      <td>593e676c92514105b702e68e</td>\n",
       "      <td>Directing</td>\n",
       "      <td>0.0</td>\n",
       "      <td>1344495</td>\n",
       "      <td>Director</td>\n",
       "      <td>Daisy Asquith</td>\n",
       "    </tr>\n",
       "  </tbody>\n",
       "</table>\n",
       "<p>464314 rows × 6 columns</p>\n",
       "</div>"
      ],
      "text/plain": [
       "                      credit_id  department  creew_gender  crew_id  \\\n",
       "0      52fe4284c3a36847f8024f49   Directing           2.0     7879   \n",
       "0      52fe4284c3a36847f8024f4f     Writing           2.0    12891   \n",
       "0      52fe4284c3a36847f8024f55     Writing           2.0        7   \n",
       "0      52fe4284c3a36847f8024f5b     Writing           2.0    12892   \n",
       "0      52fe4284c3a36847f8024f61     Writing           0.0    12893   \n",
       "...                         ...         ...           ...      ...   \n",
       "45473  52fe4776c3a368484e0c8399       Sound           0.0   549356   \n",
       "45473  52fe4776c3a368484e0c839f      Camera           2.0    58818   \n",
       "45474  533bccebc3a36844cf0011a7   Directing           0.0  1085341   \n",
       "45474  58ebbc26925141281908aa0a  Production           2.0  1195656   \n",
       "45475  593e676c92514105b702e68e   Directing           0.0  1344495   \n",
       "\n",
       "                           job            crew_name  \n",
       "0                     Director        John Lasseter  \n",
       "0                   Screenplay          Joss Whedon  \n",
       "0                   Screenplay       Andrew Stanton  \n",
       "0                   Screenplay           Joel Cohen  \n",
       "0                   Screenplay         Alec Sokolow  \n",
       "...                        ...                  ...  \n",
       "45473  Original Music Composer       Richard McHugh  \n",
       "45473  Director of Photography       João Fernandes  \n",
       "45474                 Director     Yakov Protazanov  \n",
       "45474                 Producer  Joseph N. Ermolieff  \n",
       "45475                 Director        Daisy Asquith  \n",
       "\n",
       "[464314 rows x 6 columns]"
      ]
     },
     "execution_count": 31,
     "metadata": {},
     "output_type": "execute_result"
    }
   ],
   "source": [
    "#De la misma manera con df_crew\n",
    "\n",
    "df_crew=df_crew.dropna(subset=['crew_name'])\n",
    "df_crew=df_crew.drop(columns=['profile_path'])\n",
    "df_crew"
   ]
  },
  {
   "cell_type": "code",
   "execution_count": 32,
   "metadata": {},
   "outputs": [],
   "source": [
    "df_movies2=df_movies2.drop(['tagline', 'collection_poster_path', 'collection_backdrop_path'], axis=1)"
   ]
  }
 ],
 "metadata": {
  "kernelspec": {
   "display_name": "Python 3",
   "language": "python",
   "name": "python3"
  },
  "language_info": {
   "codemirror_mode": {
    "name": "ipython",
    "version": 3
   },
   "file_extension": ".py",
   "mimetype": "text/x-python",
   "name": "python",
   "nbconvert_exporter": "python",
   "pygments_lexer": "ipython3",
   "version": "3.12.4"
  }
 },
 "nbformat": 4,
 "nbformat_minor": 2
}
