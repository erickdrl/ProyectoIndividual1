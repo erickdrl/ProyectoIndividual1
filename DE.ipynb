{
 "cells": [
  {
   "cell_type": "code",
   "execution_count": null,
   "metadata": {},
   "outputs": [],
   "source": [
    "import pandas as pd\n",
    "import ast\n",
    "from pandas import json_normalize"
   ]
  },
  {
   "cell_type": "code",
   "execution_count": null,
   "metadata": {},
   "outputs": [],
   "source": [
    "df_movies=pd.read_csv('C:/Users/NOVATEC/Desktop/movies_dataset.csv', sep=',', encoding='utf_8')"
   ]
  },
  {
   "cell_type": "code",
   "execution_count": null,
   "metadata": {},
   "outputs": [],
   "source": [
    "#Vamos a guardar toda la información en un DataFrame para poder aceder a él una vez\n",
    "#que esté desanidado\n",
    "\n",
    "df_belongs_to_colection_copy=df_movies['belongs_to_collection']\n",
    "df_belongs_to_colection=pd.DataFrame(df_belongs_to_colection_copy)"
   ]
  },
  {
   "cell_type": "code",
   "execution_count": null,
   "metadata": {},
   "outputs": [],
   "source": [
    "#Convertimos todos los valores a listas de diccionarios para mejor manejo y poder tratar valores nulos\n",
    "\n",
    "def evaluation(v):\n",
    "    try:\n",
    "        return ast.literal_eval(v)\n",
    "    except (ValueError, SyntaxError):\n",
    "        return None\n",
    "\n",
    "df_belongs_to_colection['belongs_to_collection']= df_belongs_to_colection['belongs_to_collection'].apply(lambda x: evaluation(x) if pd.notnull(x) else None)\n"
   ]
  },
  {
   "cell_type": "code",
   "execution_count": null,
   "metadata": {},
   "outputs": [],
   "source": [
    "#Normalizamos el DataFrame \n",
    "\n",
    "df_belongs= json_normalize(df_belongs_to_colection['belongs_to_collection'])\n",
    "\n",
    "df_belongs['id'].fillna(0, inplace=True)\n",
    "df_belongs['id']=df_belongs['id'].astype(int)\n",
    "\n",
    "df_belongs=df_belongs.rename(columns={'id':'id_belongs', 'name':'collection_name', 'poster_path':'collection_poster_path', 'backdrop_path':'collection_backdrop_path'})"
   ]
  },
  {
   "cell_type": "code",
   "execution_count": null,
   "metadata": {},
   "outputs": [],
   "source": [
    "#Guardamos la columna \"production_companies\" y lo convertimos a DataFrame\n",
    "\n",
    "\n",
    "df_pc=df_movies['production_companies']\n",
    "df_pc2=pd.DataFrame(df_pc)\n",
    "\n",
    "#Después, aplicamos la misma función para manejar listas de diccionarios y valores nulos\n",
    "\n",
    "df_pc2['production_companies']=df_pc2['production_companies'].apply(lambda x: evaluation(x) if pd.notnull(x) else None)\n",
    "\n",
    "#Expandimos las listas \n",
    "\n",
    "df_pc3=df_pc2.explode('production_companies')\n",
    "\n",
    "#Normalizamos los datos\n",
    "df_production_companies=json_normalize(df_pc3['production_companies'])\n",
    "\n",
    "#Convertimos a int los id\n",
    "\n",
    "df_production_companies['id'].fillna(0, inplace=True)\n",
    "df_production_companies['id']=df_production_companies['id'].astype(int)\n",
    "df_production_companies=df_production_companies.rename(columns={'name':'company_name','id':'company_id'})"
   ]
  },
  {
   "cell_type": "code",
   "execution_count": null,
   "metadata": {},
   "outputs": [],
   "source": [
    "#Aplicamos el mismo proceso para la columna \"production_countries\"\n",
    "\n",
    "df_c=df_movies['production_countries']\n",
    "df_c1=pd.DataFrame(df_c)\n",
    "df_c1['production_countries']=df_c1['production_countries'].apply(lambda x: evaluation(x) if pd.notnull(x) else None)\n",
    "df_c2=df_c1.explode('production_countries')\n",
    "df_production_countries=json_normalize(df_c2['production_countries'])\n",
    "df_production_countries=df_production_countries.rename(columns={'iso_3166_1':'country_id','name':'country'})"
   ]
  },
  {
   "cell_type": "code",
   "execution_count": null,
   "metadata": {},
   "outputs": [],
   "source": [
    "#Aplicamos el mismo proceso para la columna \"spoken_languages\"\n",
    "\n",
    "df_m=df_movies['spoken_languages']\n",
    "df_m1=pd.DataFrame(df_m)\n",
    "df_m1['spoken_languages']=df_m1['spoken_languages'].apply(lambda x: evaluation(x) if pd.notnull(x) else None)\n",
    "df_m2=df_m1.explode('spoken_languages')\n",
    "df_spoken_languages=json_normalize(df_m2['spoken_languages'])\n",
    "df_spoken_languages=df_spoken_languages.rename(columns={'iso_639_1':'language_id','name':'language'})"
   ]
  },
  {
   "cell_type": "code",
   "execution_count": null,
   "metadata": {},
   "outputs": [],
   "source": [
    "#Rellenamos con 0 los campos nulos de las columnas \"revenue\" y \"budget\"\n",
    "\n",
    "df_movies['revenue'].fillna(0, inplace=True)\n",
    "df_movies['budget'].fillna(0, inplace=True)"
   ]
  },
  {
   "cell_type": "code",
   "execution_count": null,
   "metadata": {},
   "outputs": [],
   "source": [
    "df_g=df_movies['genres']\n",
    "df_g1=pd.DataFrame(df_g)\n",
    "df_g1['genres']=df_g1['genres'].apply(lambda x: evaluation(x) if pd.notnull(x) else None)\n",
    "df_g2=df_g1.explode('genres')\n",
    "df_genres=json_normalize(df_g2['genres'])\n",
    "df_genres['id'].fillna(0, inplace=True)\n",
    "df_genres['id']=df_genres['id'].astype(int)\n",
    "df_genres=df_genres.rename(columns={'id':'genre_id','name':'genre_name'})"
   ]
  },
  {
   "cell_type": "code",
   "execution_count": null,
   "metadata": {},
   "outputs": [],
   "source": [
    "#Concatemos los DataFrames creados con el original sin quitar nada de valores nulos para\n",
    "#no causar inconsistencia en las filas\n",
    "\n",
    "df_movies2=pd.concat([df_movies, df_belongs, df_production_companies, df_production_countries, df_spoken_languages, df_genres], axis=1)"
   ]
  },
  {
   "cell_type": "code",
   "execution_count": null,
   "metadata": {},
   "outputs": [],
   "source": [
    "#Eliminamos las filas con valores nulos de \"release_date\"\n",
    "\n",
    "df_movies2=df_movies2.dropna(subset=['release_date'])"
   ]
  },
  {
   "cell_type": "code",
   "execution_count": null,
   "metadata": {},
   "outputs": [],
   "source": [
    "#Convertimos los valores de la columns \"release_date\" a formato \"aaaa-mm-dd\"\n",
    "\n",
    "df_movies2['release_date']=pd.to_datetime(df_movies2['release_date'], errors='coerce')"
   ]
  },
  {
   "cell_type": "code",
   "execution_count": null,
   "metadata": {},
   "outputs": [],
   "source": [
    "#Agregamos una nueva columna \"release_year\" con el año de \"release_date\"\n",
    "#para después darle formato de \"year\"\n",
    "\n",
    "df_movies2['release_year']=df_movies2['release_date'].dt.year.astype('Int64')"
   ]
  },
  {
   "cell_type": "code",
   "execution_count": null,
   "metadata": {},
   "outputs": [],
   "source": [
    "#La columna \"budget\" tiene strings en ciertas filas, por lo que necesitamos trabajar con ellos\n",
    "#esta función permite trabajar con ellos y asi darle formato float a los números\n",
    "\n",
    "def conversion(v):\n",
    "    try:\n",
    "        return float(v)\n",
    "    except ValueError:\n",
    "        return v\n",
    "\n",
    "df_movies2['budget'] = df_movies2['budget'].apply(conversion)"
   ]
  },
  {
   "cell_type": "code",
   "execution_count": null,
   "metadata": {},
   "outputs": [],
   "source": [
    "#La siguiente función nos permite cambiar los datos de \"budget\" a float\n",
    "#porque algunas filas dentro de ella contienen palabras\n",
    "\n",
    "import numpy as np\n",
    "def conversion(v):\n",
    "    try:\n",
    "        return float(v)\n",
    "    except ValueError:\n",
    "        return np.nan  # Usar np.nan para valores que no se pueden convertir\n",
    "\n",
    "\n",
    "df_movies2['budget'] = df_movies2['budget'].apply(conversion)"
   ]
  },
  {
   "cell_type": "code",
   "execution_count": null,
   "metadata": {},
   "outputs": [],
   "source": [
    "#Función que nos permite evitar el error de que el resultado de 0\n",
    "\n",
    "def retn(r, b):\n",
    "    if b == 0:\n",
    "        return 0  \n",
    "    else:\n",
    "        return (r/b)\n",
    "    \n",
    "df_movies2['return'] = df_movies2.apply(lambda row: retn(row['revenue'], row['budget']), axis=1)"
   ]
  },
  {
   "cell_type": "code",
   "execution_count": null,
   "metadata": {},
   "outputs": [],
   "source": [
    "#Eliminamos las columnas que no vamos a utilizar\n",
    "\n",
    "df_movies2=df_movies2.drop(columns=['belongs_to_collection', 'genres', 'production_companies',\n",
    "                                    'production_countries', 'spoken_languages', 'video',\n",
    "                                    'imdb_id', 'adult', 'original_title', 'poster_path', 'homepage'])"
   ]
  },
  {
   "cell_type": "code",
   "execution_count": null,
   "metadata": {},
   "outputs": [],
   "source": [
    "#Borramos las filas que tengan \"vote count\" de cero para tener un menor número de datos\n",
    "\n",
    "df_movies2=df_movies2[df_movies2['vote_count']!=0]"
   ]
  },
  {
   "cell_type": "code",
   "execution_count": null,
   "metadata": {},
   "outputs": [],
   "source": [
    "#Borramos las filas que tengas \"vote_average\" de cero, y con esto logramos tener películas\n",
    "#que a gente haya visto y calificado\n",
    "\n",
    "df_movies2=df_movies2[df_movies2['vote_average']!=0]"
   ]
  },
  {
   "cell_type": "code",
   "execution_count": null,
   "metadata": {},
   "outputs": [],
   "source": [
    "#Eliminamos las películas que estén en los siguientes idiomas:\n",
    "\n",
    "l=['English', 'Français', 'Español', 'Deutsch']\n",
    "\n",
    "#Esto con el fin de seguir filtrando y tener un DataFrame más limpio\n",
    "\n",
    "df_movies2=df_movies2[df_movies2['language'].isin(l)]"
   ]
  },
  {
   "cell_type": "code",
   "execution_count": null,
   "metadata": {},
   "outputs": [],
   "source": [
    "#Ahora vamos a trabajar con el csv \"credits\"\n",
    "\n",
    "df_credits=pd.read_csv('C:/Users/NOVATEC/Desktop/credits.csv', sep=',', encoding='utf-8')"
   ]
  },
  {
   "cell_type": "code",
   "execution_count": null,
   "metadata": {},
   "outputs": [],
   "source": [
    "#Desanidamos los datos de la columna \"cast\"\n",
    "\n",
    "df_ct1=df_credits['cast'].astype(str)\n",
    "df_ct2=df_ct1.apply(ast.literal_eval)\n",
    "df_cast=df_ct2.explode().apply(pd.Series)"
   ]
  },
  {
   "cell_type": "code",
   "execution_count": null,
   "metadata": {},
   "outputs": [],
   "source": [
    "df_cast=df_cast.rename(columns={'id':'name_id','name':'actor_name'})"
   ]
  },
  {
   "cell_type": "code",
   "execution_count": null,
   "metadata": {},
   "outputs": [],
   "source": [
    "dlt=df_cast.columns[8]\n",
    "df_cast=df_cast.drop(columns=dlt)"
   ]
  },
  {
   "cell_type": "code",
   "execution_count": null,
   "metadata": {},
   "outputs": [],
   "source": [
    "#Desanidamos los datos de la columna crew\n",
    "\n",
    "df_cw=df_credits['crew']\n",
    "df_cw2=df_cw.apply(ast.literal_eval)\n",
    "df_crew=df_cw2.explode().apply(pd.Series)"
   ]
  },
  {
   "cell_type": "code",
   "execution_count": null,
   "metadata": {},
   "outputs": [],
   "source": [
    "df_crew['id'].fillna(0, inplace=True)\n",
    "df_crew['id']=df_crew['id'].astype(int)"
   ]
  },
  {
   "cell_type": "code",
   "execution_count": null,
   "metadata": {},
   "outputs": [],
   "source": [
    "df_crew=df_crew.rename(columns={'gender':'creew_gender','id':'crew_id','name':'crew_name'})"
   ]
  },
  {
   "cell_type": "code",
   "execution_count": null,
   "metadata": {},
   "outputs": [],
   "source": [
    "dlt2=df_crew.columns[7]\n",
    "df_crew=df_crew.drop(columns=dlt2)"
   ]
  },
  {
   "cell_type": "code",
   "execution_count": null,
   "metadata": {},
   "outputs": [],
   "source": [
    "#Quitamos columnas y filtramos para tener un DataFrame más limpio\n",
    "\n",
    "df_cast=df_cast.drop(columns=['profile_path'])\n",
    "df_cast=df_cast[df_cast['order']!=0]\n",
    "df_cast=df_cast.dropna(subset=['actor_name'])\n"
   ]
  },
  {
   "cell_type": "code",
   "execution_count": null,
   "metadata": {},
   "outputs": [],
   "source": [
    "#De la misma manera con df_crew\n",
    "\n",
    "df_crew=df_crew.dropna(subset=['crew_name'])\n",
    "df_crew=df_crew.drop(columns=['profile_path'])\n",
    "df_crew"
   ]
  },
  {
   "cell_type": "code",
   "execution_count": null,
   "metadata": {},
   "outputs": [],
   "source": [
    "#creamos un diccionario con los meses\n",
    "\n",
    "months={\n",
    "    'enero': 1,\n",
    "    'febrero': 2,\n",
    "    'marzo': 3,\n",
    "    'abril': 4,\n",
    "    'mayo': 5,\n",
    "    'junio': 6,\n",
    "    'julio': 7,\n",
    "    'agosto': 8,\n",
    "    'septiembre': 9,\n",
    "    'octubre': 10,\n",
    "    'noviembre': 11,\n",
    "    'diciembre': 12\n",
    "}\n",
    "\n",
    "def cantidad_filmaciones_mes(df_movies2, m):\n",
    "    # Obtenemos el número del mes\n",
    "\n",
    "    month_number=months.get(m.lower())\n",
    "    if month_number is None:\n",
    "        return f\"El mes '{m}' no es válido.\"\n",
    "    \n",
    "    # Filtramos las películas por mes\n",
    "    movies_per_month=df_movies2[df_movies2['release_date'].dt.month==month_number]\n",
    "    \n",
    "    # Mostramos nombres y fechas de las películas una vez filtradas\n",
    "    for index, row in movies_per_month.iterrows():\n",
    "        print(f\"Nombre: {row['title']}, Fecha de estreno: {row['release_date'].date()}\")\n",
    "    \n",
    "    q=len(movies_per_month)\n",
    "    \n",
    "    return f\"{q} Cantidad de peliculas fueron estrenadas el mes de: {m}\""
   ]
  },
  {
   "cell_type": "code",
   "execution_count": null,
   "metadata": {},
   "outputs": [],
   "source": [
    "#Creamos un diccionario con los días de la semana\n",
    "\n",
    "days_week={\n",
    "    'lunes': 0,\n",
    "    'martes': 1,\n",
    "    'miércoles': 2,\n",
    "    'jueves': 3,\n",
    "    'viernes': 4,\n",
    "    'sábado': 5,\n",
    "    'domingo': 6\n",
    "}\n",
    "\n",
    "def cantidad_filmaciones_dia(df_movies2, d):\n",
    "    #Obtenemos el número del día de la semana\n",
    "\n",
    "\n",
    "    day_number=days_week.get(d.lower())\n",
    "    if day_number is None:\n",
    "        return f\"El día '{d}' no es válido.\"\n",
    "    \n",
    "    #Filtramos las películas por día de semana\n",
    "    movies_per_day=df_movies2[df_movies2['release_date'].dt.dayofweek==day_number]\n",
    "    \n",
    "    #Mostramos nombres y fechas de las películas una vez filtradas\n",
    "    for index, row in movies_per_day.iterrows():\n",
    "        print(f\"Nombre: {row['title']}, Fecha de estreno: {row['release_date'].date()}\")\n",
    "    \n",
    "    q=len(movies_per_day)\n",
    "    \n",
    "    return f\"{q} Cantidad de peliculas fueron estrenadas el día: {d}\""
   ]
  },
  {
   "cell_type": "code",
   "execution_count": null,
   "metadata": {},
   "outputs": [],
   "source": [
    "def score_titulo(df_movies2, t):\n",
    "    #Filtramos por título de película\n",
    "\n",
    "    movie=df_movies2[df_movies2['title']==t]\n",
    "    \n",
    "    if movie.empty:\n",
    "        return f\"La película '{t}' no se encuentra en el DataFrame.\"\n",
    "    \n",
    "    #Extraemos la información de la película\n",
    "    rel_date=movie['release_date'].iloc[0]\n",
    "    popty=movie['popularity'].iloc[0]\n",
    "    rel_year=rel_date.year\n",
    "    \n",
    "    \n",
    "    return {f\" La pelicula '{t}' fue estrenada en el año {rel_year} con una popularidad de {popty}\"}"
   ]
  },
  {
   "cell_type": "code",
   "execution_count": null,
   "metadata": {},
   "outputs": [],
   "source": [
    "def votos_titulo(df_movies2, tl):\n",
    "    #Filtrar título de película\n",
    "\n",
    "    mo=df_movies2[df_movies2['title']==tl]\n",
    "    \n",
    "    if mo.empty:\n",
    "        return f\"La película '{tl}' no se encuentra en el DataFrame.\"\n",
    "    \n",
    "    #Verificamos que la cantidad de votos es mayor a 2000\n",
    "    if mo['vote_count'].iloc[0]>2000:\n",
    "        i=mo[['vote_count', 'vote_average', 'release_date']].iloc[0]\n",
    "        return i\n",
    "    else:\n",
    "        return f\"La película '{tl}' no cumple con la condición de tener más de 2000 votos.\"\n"
   ]
  },
  {
   "cell_type": "code",
   "execution_count": null,
   "metadata": {},
   "outputs": [],
   "source": [
    "df_movies2['id']=df_movies2['id'].astype(str)\n",
    "df_cast['cast_id']=df_cast['cast_id'].astype(str)\n",
    "\n",
    "def get_actor(df_movies2, df_cast, actor):\n",
    "    #Unimos por la columna 'id' de df_movies2 y 'cast_id' de df_cast\n",
    "    df_joined=df_cast.merge(df_movies2, left_on='cast_id', right_on='id')\n",
    "    \n",
    "    #Filtrar por nombre de actor\n",
    "    movies_actor=df_joined[df_joined['actor_name']==actor]\n",
    "    \n",
    "    if movies_actor.empty:\n",
    "        return f\"No se encontraron películas para el actor '{actor}'.\"\n",
    "    \n",
    "    #Para calcular el total generado\n",
    "    total_return=movies_actor['return'].sum()\n",
    "    \n",
    "    #Para contar el número de películas\n",
    "    numer_of_movies=movies_actor.shape[0]\n",
    "    \n",
    "    #Para calcular el promedio de 'return'\n",
    "    average_return=movies_actor['return'].mean()\n",
    "    \n",
    "    \n",
    "    return f\"El actor '{actor}' ha generado un total de {total_return:.2f} en 'return', ha participado en {numer_of_movies} películas, con un promedio de 'return' de {average_return:.2f}.\""
   ]
  },
  {
   "cell_type": "code",
   "execution_count": null,
   "metadata": {},
   "outputs": [],
   "source": [
    "def get_director(df_crew, df_movies2, director):\n",
    "    #Filtramos por directores y que solo tenga el \"job\" de DIRECTOR\n",
    "    df_crew=df_crew[(df_crew['job']=='director')&(df_crew['crew_name']==director)]\n",
    "\n",
    "    #Realizar un merge con de df_movies2 y df_crew\n",
    "    df_merged=pd.merge(df_crew, df_movies2, left_on='credit_id', right_on='id', how='inner')\n",
    "\n",
    "    #Para calcular la cantidad de películas\n",
    "    num_movies=df_merged.shape[0]\n",
    "\n",
    "    #Para calcular el retorno total\n",
    "    total_return=df_merged['return'].sum()\n",
    "\n",
    "    #Para calcular el retorno promedio\n",
    "    average_return=df_merged['return'].mean() if num_movies>0 else 0\n",
    "\n",
    "    return num_movies, total_return, average_return"
   ]
  }
 ],
 "metadata": {
  "kernelspec": {
   "display_name": "Python 3",
   "language": "python",
   "name": "python3"
  },
  "language_info": {
   "codemirror_mode": {
    "name": "ipython",
    "version": 3
   },
   "file_extension": ".py",
   "mimetype": "text/x-python",
   "name": "python",
   "nbconvert_exporter": "python",
   "pygments_lexer": "ipython3",
   "version": "3.12.4"
  }
 },
 "nbformat": 4,
 "nbformat_minor": 2
}
